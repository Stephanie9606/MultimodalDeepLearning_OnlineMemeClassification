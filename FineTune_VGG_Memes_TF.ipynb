{
  "nbformat": 4,
  "nbformat_minor": 0,
  "metadata": {
    "colab": {
      "name": "FineTune_VGG_Memes_TF.ipynb",
      "provenance": [],
      "collapsed_sections": [
        "71i5-crpi2ct"
      ],
      "include_colab_link": true
    },
    "kernelspec": {
      "name": "python3",
      "display_name": "Python 3"
    },
    "language_info": {
      "name": "python"
    },
    "accelerator": "GPU"
  },
  "cells": [
    {
      "cell_type": "markdown",
      "metadata": {
        "id": "view-in-github",
        "colab_type": "text"
      },
      "source": [
        "<a href=\"https://colab.research.google.com/github/Stephanie9606/Python_Multimodal_Deep_Learning/blob/main/FineTune_VGG_Memes_TF.ipynb\" target=\"_parent\"><img src=\"https://colab.research.google.com/assets/colab-badge.svg\" alt=\"Open In Colab\"/></a>"
      ]
    },
    {
      "cell_type": "code",
      "execution_count": 1,
      "metadata": {
        "id": "m1En3Ur599pL"
      },
      "outputs": [],
      "source": [
        "import pandas as pd\n",
        "import numpy as np"
      ]
    },
    {
      "cell_type": "code",
      "source": [
        "import tensorflow as tf\n",
        "from tensorflow.keras import applications\n",
        "from tensorflow.keras.preprocessing.image import ImageDataGenerator\n",
        "from tensorflow.keras.models import Model \n",
        "from tensorflow.keras.layers import Dense, Input, Dropout, Flatten\n",
        "from tensorflow.keras.optimizers import Adam"
      ],
      "metadata": {
        "id": "xbAyB_Np-MDG"
      },
      "execution_count": 4,
      "outputs": []
    },
    {
      "cell_type": "code",
      "source": [
        "# Set up the device for GPU usage\n",
        "device_name = tf.test.gpu_device_name()\n",
        "if device_name != '/device:GPU:0':\n",
        "  raise SystemError('GPU device not found')\n",
        "print('Found GPU at: {}'.format(device_name))"
      ],
      "metadata": {
        "colab": {
          "base_uri": "https://localhost:8080/"
        },
        "id": "iNfTi74bdWdI",
        "outputId": "35713e71-cdc5-41c7-e566-07dd0dc14aa3"
      },
      "execution_count": 5,
      "outputs": [
        {
          "output_type": "stream",
          "name": "stdout",
          "text": [
            "Found GPU at: /device:GPU:0\n"
          ]
        }
      ]
    },
    {
      "cell_type": "code",
      "source": [
        "# connect to google drive for files\n",
        "from google.colab import drive\n",
        "drive.mount('/content/drive')"
      ],
      "metadata": {
        "colab": {
          "base_uri": "https://localhost:8080/"
        },
        "id": "Wu7Zb5lE-MRq",
        "outputId": "d0f235bb-582d-48b3-b9c9-54fb53183cb4"
      },
      "execution_count": 6,
      "outputs": [
        {
          "output_type": "stream",
          "name": "stdout",
          "text": [
            "Mounted at /content/drive\n"
          ]
        }
      ]
    },
    {
      "cell_type": "markdown",
      "source": [
        "# Data Pre-processing"
      ],
      "metadata": {
        "id": "71i5-crpi2ct"
      }
    },
    {
      "cell_type": "code",
      "source": [
        "# unzip image file\n",
        "!unzip /content/drive/MyDrive/memes_image.zip"
      ],
      "metadata": {
        "id": "Xp4rSb0P-MbO"
      },
      "execution_count": null,
      "outputs": []
    },
    {
      "cell_type": "code",
      "source": [
        "memesDF = pd.read_csv('/content/drive/MyDrive/top5_memes_tidy.tsv', sep='\\t')"
      ],
      "metadata": {
        "id": "b7ahkth_-Mjj"
      },
      "execution_count": 10,
      "outputs": []
    },
    {
      "cell_type": "code",
      "source": [
        "memesDF = memesDF.iloc[:, 2:9]"
      ],
      "metadata": {
        "id": "kA0oxOku-MpV"
      },
      "execution_count": 11,
      "outputs": []
    },
    {
      "cell_type": "code",
      "source": [
        "memesDF['AltText'] = memesDF['AltText'].astype(pd.StringDtype())\n",
        "memesDF['MemeLabel'] = memesDF['MemeLabel'].astype(pd.StringDtype())\n",
        "memesDF['CaptionText'] = memesDF['CaptionText'].astype(pd.StringDtype())\n",
        "memesDF['HashId'] = memesDF['HashId'].astype(pd.StringDtype())\n",
        "memesDF['ImageURL'] = memesDF['ImageURL'].astype(pd.StringDtype())\n",
        "memesDF['ImagePath'] = memesDF['ImagePath'].astype(pd.StringDtype())\n",
        "memesDF['Image'] = memesDF['Image'].astype(pd.StringDtype())"
      ],
      "metadata": {
        "id": "oyKqH4Kn-Muu"
      },
      "execution_count": 13,
      "outputs": []
    },
    {
      "cell_type": "code",
      "source": [
        "# Only get two label for Binary Classification\n",
        "meme2cDF = memesDF[(memesDF['MemeLabel'] == \"Scared Cat\") | (memesDF['MemeLabel'] == \"Who Killed Hannibal\")]"
      ],
      "metadata": {
        "id": "MEi0H4ch-M5X"
      },
      "execution_count": 14,
      "outputs": []
    },
    {
      "cell_type": "code",
      "source": [
        "meme2cDF.head(3)"
      ],
      "metadata": {
        "id": "CQoxoFb0-M-Z"
      },
      "execution_count": null,
      "outputs": []
    },
    {
      "cell_type": "code",
      "source": [
        "# train test split\n",
        "from sklearn.model_selection import train_test_split\n",
        "\n",
        "me_trainDF, me_testDF = train_test_split(meme2cDF, test_size=0.2, random_state=15)\n",
        "me_trainDF.index"
      ],
      "metadata": {
        "colab": {
          "base_uri": "https://localhost:8080/"
        },
        "id": "Xx-me6waCM6H",
        "outputId": "4ed1c1c2-2d4b-4fb4-dcd8-197d68bd05be"
      },
      "execution_count": 16,
      "outputs": [
        {
          "output_type": "execute_result",
          "data": {
            "text/plain": [
              "Int64Index([3025,  363,  222, 3160,  100,   51, 2855, 2651,  135, 2370,\n",
              "            ...\n",
              "            1047,  927,  749, 3115,  221,  943,  630, 3183, 2789, 3254],\n",
              "           dtype='int64', length=1861)"
            ]
          },
          "metadata": {},
          "execution_count": 16
        }
      ]
    },
    {
      "cell_type": "markdown",
      "source": [
        "# Load Pre-trained Model"
      ],
      "metadata": {
        "id": "puie_NYrCjyI"
      }
    },
    {
      "cell_type": "code",
      "source": [
        "#tf.random.set_seed(45)\n",
        "\n",
        "# Load original model with pretrained weights from imagenet\n",
        "base_model = applications.VGG16(weights=\"imagenet\")\n",
        "\n",
        "# Freeze base model\n",
        "base_model.trainable = False"
      ],
      "metadata": {
        "id": "uVp3R5UeCpFA",
        "colab": {
          "base_uri": "https://localhost:8080/"
        },
        "outputId": "c94bd3a2-e442-4655-d2e3-5b072f92c52d"
      },
      "execution_count": 22,
      "outputs": [
        {
          "output_type": "stream",
          "name": "stdout",
          "text": [
            "Downloading data from https://storage.googleapis.com/tensorflow/keras-applications/vgg16/vgg16_weights_tf_dim_ordering_tf_kernels.h5\n",
            "553467904/553467096 [==============================] - 5s 0us/step\n",
            "553476096/553467096 [==============================] - 5s 0us/step\n"
          ]
        }
      ]
    },
    {
      "cell_type": "code",
      "source": [
        "#base_model.summary()"
      ],
      "metadata": {
        "id": "rwE6QTCnfOKu"
      },
      "execution_count": null,
      "outputs": []
    },
    {
      "cell_type": "code",
      "source": [
        "# Create new model on top\n",
        "img_height = 224\n",
        "img_width = 224\n",
        "inputs = Input(shape=(img_height, img_width, 3))\n",
        "x = base_model(inputs, training=False)\n",
        "outputs = Dense(1, activation=\"softmax\")(x) # we want to output probabilities for both classes\n",
        "model = Model(inputs, outputs)\n",
        "model.summary()"
      ],
      "metadata": {
        "id": "r0lo9gmPPf25"
      },
      "execution_count": null,
      "outputs": []
    },
    {
      "cell_type": "code",
      "source": [
        "# Try deeper model on top\n",
        "img_height = 224\n",
        "img_width = 224\n",
        "inputs = Input(shape=(img_height, img_width, 3))\n",
        "x = base_model(inputs, training=False)\n",
        "\n",
        "hidden1 = Flatten(name=\"flatten\")(x)\n",
        "hidden2 = Dense(512, activation=\"relu\")(hidden1)\n",
        "hidden3 = Dropout(0.5)(hidden2)\n",
        "\n",
        "outputs = Dense(1, activation=\"softmax\")(hidden3) # output probabilities for both classes\n",
        "model = Model(inputs, outputs)\n",
        "model.summary()"
      ],
      "metadata": {
        "id": "3-H3TV6D3KMv",
        "colab": {
          "base_uri": "https://localhost:8080/"
        },
        "outputId": "6901ca16-8dcb-4fc8-91c5-455467038c14"
      },
      "execution_count": null,
      "outputs": [
        {
          "output_type": "stream",
          "name": "stdout",
          "text": [
            "Model: \"model\"\n",
            "_________________________________________________________________\n",
            " Layer (type)                Output Shape              Param #   \n",
            "=================================================================\n",
            " input_3 (InputLayer)        [(None, 224, 224, 3)]     0         \n",
            "                                                                 \n",
            " vgg16 (Functional)          (None, 1000)              138357544 \n",
            "                                                                 \n",
            " flatten (Flatten)           (None, 1000)              0         \n",
            "                                                                 \n",
            " dense (Dense)               (None, 512)               512512    \n",
            "                                                                 \n",
            " dropout (Dropout)           (None, 512)               0         \n",
            "                                                                 \n",
            " dense_1 (Dense)             (None, 1)                 513       \n",
            "                                                                 \n",
            "=================================================================\n",
            "Total params: 138,870,569\n",
            "Trainable params: 513,025\n",
            "Non-trainable params: 138,357,544\n",
            "_________________________________________________________________\n"
          ]
        }
      ]
    },
    {
      "cell_type": "code",
      "source": [
        "base_model.layers.pop()\n",
        "model2 = Model(base_model.input, base_model.layers[-2].output)\n",
        "#model2.summary()\n",
        "model2 = model2(inputs, training=False)"
      ],
      "metadata": {
        "id": "98qKpiNHP0WX"
      },
      "execution_count": null,
      "outputs": []
    },
    {
      "cell_type": "code",
      "source": [
        "# pop base_model to 4096 output feature layer\n",
        "img_height = 224\n",
        "img_width = 224\n",
        "inputs = Input(shape=(img_height, img_width, 3))\n",
        "\n",
        "base_model.layers.pop()\n",
        "model2 = Model(base_model.input, base_model.layers[-2].output)\n",
        "#model2.summary()\n",
        "x = model2(inputs, training=False)\n",
        "\n",
        "hidden1 = Flatten(name=\"flatten\")(x)\n",
        "hidden2 = Dense(512, activation=\"relu\")(hidden1)\n",
        "hidden3 = Dropout(0.5)(hidden2)\n",
        "\n",
        "outputs = Dense(1, activation=\"softmax\")(hidden3) # output probabilities for both classes\n",
        "model = Model(inputs, outputs)\n",
        "model.summary()"
      ],
      "metadata": {
        "colab": {
          "base_uri": "https://localhost:8080/"
        },
        "id": "MhNsZHvO-as5",
        "outputId": "4c67033b-2e71-4c47-ac49-6b51c2226663"
      },
      "execution_count": null,
      "outputs": [
        {
          "output_type": "stream",
          "name": "stdout",
          "text": [
            "Model: \"model_2\"\n",
            "_________________________________________________________________\n",
            " Layer (type)                Output Shape              Param #   \n",
            "=================================================================\n",
            " input_4 (InputLayer)        [(None, 224, 224, 3)]     0         \n",
            "                                                                 \n",
            " model_1 (Functional)        (None, 4096)              134260544 \n",
            "                                                                 \n",
            " flatten (Flatten)           (None, 4096)              0         \n",
            "                                                                 \n",
            " dense_2 (Dense)             (None, 512)               2097664   \n",
            "                                                                 \n",
            " dropout_1 (Dropout)         (None, 512)               0         \n",
            "                                                                 \n",
            " dense_3 (Dense)             (None, 1)                 513       \n",
            "                                                                 \n",
            "=================================================================\n",
            "Total params: 136,358,721\n",
            "Trainable params: 2,098,177\n",
            "Non-trainable params: 134,260,544\n",
            "_________________________________________________________________\n"
          ]
        }
      ]
    },
    {
      "cell_type": "code",
      "source": [
        " # Loading training data\n",
        "img_height = 224\n",
        "img_width = 224\n",
        "batch_size = 32\n",
        "\n",
        "train_datagen = ImageDataGenerator(preprocessing_function=applications.vgg16.preprocess_input, rescale=1./255.,validation_split=0.25)\n",
        "train_generator = train_datagen.flow_from_dataframe(dataframe=me_trainDF, \n",
        "                                                    directory=None, \n",
        "                                                    x_col=\"ImagePath\", \n",
        "                                                    y_col=\"MemeLabel\", \n",
        "                                                    subset=\"training\", \n",
        "                                                    seed = 55, \n",
        "                                                    class_mode=\"binary\", \n",
        "                                                    target_size=(img_height, img_width), \n",
        "                                                    batch_size=batch_size)\n",
        "\n",
        "valid_generator = train_datagen.flow_from_dataframe(dataframe=me_trainDF, \n",
        "                                                    directory=None, \n",
        "                                                    x_col=\"ImagePath\", \n",
        "                                                    y_col=\"MemeLabel\", \n",
        "                                                    subset=\"validation\", \n",
        "                                                    seed = 55, \n",
        "                                                    class_mode=\"binary\", \n",
        "                                                    target_size=(img_height, img_width), \n",
        "                                                    batch_size=batch_size)\n",
        "\n",
        "print(f\"Class labels: {train_generator.class_indices}\")\n",
        "\n",
        "#step_size = train_generator.n//train_generator.batch_size"
      ],
      "metadata": {
        "colab": {
          "base_uri": "https://localhost:8080/"
        },
        "id": "dlac7wSGDILR",
        "outputId": "c93ad5ce-10c4-42bc-80b7-ccb5d549a401"
      },
      "execution_count": 17,
      "outputs": [
        {
          "output_type": "stream",
          "name": "stdout",
          "text": [
            "Found 1396 validated image filenames belonging to 2 classes.\n",
            "Found 465 validated image filenames belonging to 2 classes.\n",
            "Class labels: {'Scared Cat': 0, 'Who Killed Hannibal': 1}\n"
          ]
        }
      ]
    },
    {
      "cell_type": "code",
      "source": [
        "# Hyperparameter tuning\n",
        "\n",
        "def create_model(params):\n",
        "  img_height = 224\n",
        "  img_width = 224\n",
        "  inputs = Input(shape=(img_height, img_width, 3))\n",
        "\n",
        "  base_model = applications.VGG16(weights=\"imagenet\")\n",
        "#  base_model.layers.pop()\n",
        "  base_model = Model(base_model.input, base_model.layers[-2].output)\n",
        "  x = base_model(inputs, training=False)\n",
        "  hidden1 = Dense(params['units1'], activation = 'relu')(x)\n",
        "  hidden2 = Dropout(params['dropout1'])(hidden1)\n",
        "\n",
        "  outputs = Dense(1, activation = 'softmax')(hidden2)\n",
        "\n",
        "  model = Model(inputs, outputs)\n",
        "  return model"
      ],
      "metadata": {
        "id": "AoDGX2m6TKbm"
      },
      "execution_count": 18,
      "outputs": []
    },
    {
      "cell_type": "code",
      "source": [
        "from hyperopt import fmin, tpe, hp, STATUS_OK, Trials\n",
        "from sklearn.metrics import roc_auc_score\n",
        "from keras.layers.core import Dense, Dropout, Activation\n",
        "import sys"
      ],
      "metadata": {
        "id": "ElnUJlOXWSpb"
      },
      "execution_count": 19,
      "outputs": []
    },
    {
      "cell_type": "code",
      "source": [
        "x = train_generator\n",
        "validation_data = valid_generator\n",
        "\n",
        "# Define NN\n",
        "def f_nn(params):   \n",
        "    model = create_model(params)\n",
        "    \n",
        "    model.compile(loss='binary_crossentropy', optimizer='adam', metrics='accuracy')\n",
        "\n",
        "    md_history = model.fit(x, validation_data = validation_data, epochs=10, batch_size=32, verbose = 2)\n",
        "#    model.fit(x, epochs=params['num_epochs'], batch_size=params['batch_size'], verbose = 2)\n",
        "\n",
        "    loss, acc = model.evaluate(validation_data, verbose = 0)\n",
        "    print('Test accuracy:', acc)\n",
        "    return {'loss': -acc, 'status': STATUS_OK, 'model': model} \n",
        "\n",
        "# Search space\n",
        "space = {'units1': hp.uniform('units1', 64,1024),\n",
        "         'dropout1': hp.uniform('dropout1', .25,.75)\n",
        "#         'batch_size' : hp.uniform('batch_size', 28,128)\n",
        "        }\n",
        "\n",
        "# Trials\n",
        "trials = Trials()\n",
        "\n",
        "best = fmin(f_nn, space, algo=tpe.suggest, max_evals=16, trials=trials)\n",
        "print('best: ', best)"
      ],
      "metadata": {
        "id": "bCuWA6ABWznY"
      },
      "execution_count": null,
      "outputs": []
    },
    {
      "cell_type": "code",
      "source": [
        "!pip install mlflow"
      ],
      "metadata": {
        "id": "MJLm9OCfERHm"
      },
      "execution_count": null,
      "outputs": []
    },
    {
      "cell_type": "code",
      "source": [
        "import mlflow.tensorflow"
      ],
      "metadata": {
        "id": "py2vFZ5GDF5h"
      },
      "execution_count": null,
      "outputs": []
    },
    {
      "cell_type": "code",
      "source": [
        "# Check out the MLflow UI as this runs\n",
        "mlflow.tensorflow.autolog(every_n_iter=2)"
      ],
      "metadata": {
        "id": "hwvRjWBHEFH1"
      },
      "execution_count": null,
      "outputs": []
    },
    {
      "cell_type": "code",
      "source": [
        "# optimizer and metric\n",
        "model.compile(loss=\"binary_crossentropy\", optimizer=Adam(lr=0.005), metrics=[\"accuracy\"]) "
      ],
      "metadata": {
        "colab": {
          "base_uri": "https://localhost:8080/"
        },
        "id": "NSmrtycAFEOX",
        "outputId": "3b7de97a-48e4-4972-c1ec-6b1ebccb51bb"
      },
      "execution_count": null,
      "outputs": [
        {
          "output_type": "stream",
          "name": "stderr",
          "text": [
            "/usr/local/lib/python3.7/dist-packages/keras/optimizer_v2/adam.py:105: UserWarning: The `lr` argument is deprecated, use `learning_rate` instead.\n",
            "  super(Adam, self).__init__(name, **kwargs)\n"
          ]
        }
      ]
    },
    {
      "cell_type": "code",
      "source": [
        "# Train the model \n",
        "step_size_train=train_generator.n//train_generator.batch_size\n",
        "step_size_valid=valid_generator.n//valid_generator.batch_size\n",
        "\n",
        "model.fit(train_generator,\n",
        "          steps_per_epoch=step_size_train,\n",
        "          validation_data=valid_generator,\n",
        "          validation_steps=step_size_valid,\n",
        "          epochs=10,\n",
        "          verbose=2 # show: epoch 1/10\n",
        ")"
      ],
      "metadata": {
        "colab": {
          "base_uri": "https://localhost:8080/"
        },
        "id": "-sjgGf-BFHrv",
        "outputId": "74abfcd5-b2ba-4b9b-93fe-8007521f9253"
      },
      "execution_count": null,
      "outputs": [
        {
          "output_type": "stream",
          "name": "stderr",
          "text": [
            "2022/03/27 20:08:04 INFO mlflow.utils.autologging_utils: Created MLflow autologging run with ID '9d596fa92ef545fd832512bc0ae3ab89', which will track hyperparameters, performance metrics, model artifacts, and lineage information for the current tensorflow workflow\n"
          ]
        },
        {
          "output_type": "stream",
          "name": "stdout",
          "text": [
            "Epoch 1/10\n",
            "43/43 - 40s - loss: 1.5578 - accuracy: 0.5183 - val_loss: 1.3773e-04 - val_accuracy: 0.5112 - 40s/epoch - 932ms/step\n",
            "Epoch 2/10\n",
            "43/43 - 21s - loss: 0.0346 - accuracy: 0.5191 - val_loss: 8.7123e-05 - val_accuracy: 0.5067 - 21s/epoch - 488ms/step\n",
            "Epoch 3/10\n",
            "43/43 - 22s - loss: 0.0337 - accuracy: 0.5205 - val_loss: 1.7694e-04 - val_accuracy: 0.5179 - 22s/epoch - 512ms/step\n",
            "Epoch 4/10\n",
            "43/43 - 26s - loss: 0.0073 - accuracy: 0.5198 - val_loss: 0.0029 - val_accuracy: 0.5223 - 26s/epoch - 605ms/step\n",
            "Epoch 5/10\n",
            "43/43 - 21s - loss: 0.0099 - accuracy: 0.5213 - val_loss: 3.4809e-04 - val_accuracy: 0.5112 - 21s/epoch - 490ms/step\n",
            "Epoch 6/10\n",
            "43/43 - 21s - loss: 0.0073 - accuracy: 0.5198 - val_loss: 0.0038 - val_accuracy: 0.5134 - 21s/epoch - 491ms/step\n",
            "Epoch 7/10\n",
            "43/43 - 26s - loss: 0.0146 - accuracy: 0.5198 - val_loss: 4.9030e-05 - val_accuracy: 0.5201 - 26s/epoch - 612ms/step\n",
            "Epoch 8/10\n",
            "43/43 - 21s - loss: 0.0078 - accuracy: 0.5198 - val_loss: 1.2050e-04 - val_accuracy: 0.5179 - 21s/epoch - 488ms/step\n",
            "Epoch 9/10\n",
            "43/43 - 26s - loss: 0.0033 - accuracy: 0.5191 - val_loss: 0.0105 - val_accuracy: 0.5134 - 26s/epoch - 602ms/step\n",
            "Epoch 10/10\n",
            "43/43 - 21s - loss: 0.0026 - accuracy: 0.5235 - val_loss: 2.7368e-05 - val_accuracy: 0.5112 - 21s/epoch - 488ms/step\n",
            "INFO:tensorflow:Assets written to: /tmp/tmp0njp9di8/model/data/model/assets\n"
          ]
        },
        {
          "output_type": "stream",
          "name": "stderr",
          "text": [
            "2022/03/27 20:13:39 WARNING mlflow.utils.requirements_utils: Found jaxlib version (0.3.2+cuda11.cudnn805) contains a local version label (+cuda11.cudnn805). MLflow logged a pip requirement for this package as 'jaxlib==0.3.2' without the local version label to make it installable from PyPI. To specify pip requirements containing local version labels, please use `conda_env` or `pip_requirements`.\n"
          ]
        },
        {
          "output_type": "execute_result",
          "data": {
            "text/plain": [
              "<keras.callbacks.History at 0x7f5fe4a98e50>"
            ]
          },
          "metadata": {},
          "execution_count": 23
        }
      ]
    },
    {
      "cell_type": "code",
      "source": [
        "# Evaluate model on test set\n",
        "test_datagen = ImageDataGenerator(preprocessing_function=applications.vgg16.preprocess_input, rescale=1./255.)"
      ],
      "metadata": {
        "id": "HURE_sAxFIaK"
      },
      "execution_count": null,
      "outputs": []
    },
    {
      "cell_type": "code",
      "source": [
        "# Evaluate\n",
        "batch_size = 32\n",
        "\n",
        "test_generator = test_datagen.flow_from_dataframe(\n",
        "  dataframe=me_testDF, \n",
        "  directory=None, \n",
        "  x_col=\"ImagePath\", \n",
        "  y_col=\"MemeLabel\", \n",
        "  class_mode=\"binary\", \n",
        "  target_size=(img_height, img_width),\n",
        "  shuffle=False,\n",
        "  batch_size=batch_size\n",
        ")\n",
        "\n",
        "step_size_test = test_generator.n//test_generator.batch_size\n",
        "\n",
        "eval_results = model.evaluate(test_generator, steps=step_size_test)\n",
        "print(f\"Loss: {eval_results[0]}. Accuracy: {eval_results[1]}\")"
      ],
      "metadata": {
        "colab": {
          "base_uri": "https://localhost:8080/"
        },
        "id": "L2tblZ9-FIXf",
        "outputId": "30281bc2-891c-4a9f-b5a3-bad001465c6f"
      },
      "execution_count": null,
      "outputs": [
        {
          "output_type": "stream",
          "name": "stdout",
          "text": [
            "Found 466 validated image filenames belonging to 2 classes.\n",
            "14/14 [==============================] - 6s 413ms/step - loss: 0.0029 - accuracy: 0.5112\n",
            "Loss: 0.0029087255243211985. Accuracy: 0.5111607313156128\n"
          ]
        }
      ]
    },
    {
      "cell_type": "code",
      "source": [
        "# hyperpaprameter tuning "
      ],
      "metadata": {
        "id": "2ZAHNEH6FIcg"
      },
      "execution_count": null,
      "outputs": []
    },
    {
      "cell_type": "code",
      "source": [
        ""
      ],
      "metadata": {
        "colab": {
          "base_uri": "https://localhost:8080/"
        },
        "id": "ImhCDGdVKWE4",
        "outputId": "18dccee0-da41-413e-8f0b-972008112a9c"
      },
      "execution_count": null,
      "outputs": [
        {
          "output_type": "execute_result",
          "data": {
            "text/plain": [
              "466"
            ]
          },
          "metadata": {},
          "execution_count": 26
        }
      ]
    }
  ]
}