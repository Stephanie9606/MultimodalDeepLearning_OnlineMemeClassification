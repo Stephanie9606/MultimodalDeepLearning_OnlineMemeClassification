{
  "nbformat": 4,
  "nbformat_minor": 0,
  "metadata": {
    "colab": {
      "name": "binary_vgg_memes_TF.ipynb",
      "provenance": [],
      "collapsed_sections": [],
      "include_colab_link": true
    },
    "kernelspec": {
      "name": "python3",
      "display_name": "Python 3"
    },
    "language_info": {
      "name": "python"
    },
    "accelerator": "GPU"
  },
  "cells": [
    {
      "cell_type": "markdown",
      "metadata": {
        "id": "view-in-github",
        "colab_type": "text"
      },
      "source": [
        "<a href=\"https://colab.research.google.com/github/Stephanie9606/Multimodal_Deep_Learning/blob/main/binary_vgg_memes_TF.ipynb\" target=\"_parent\"><img src=\"https://colab.research.google.com/assets/colab-badge.svg\" alt=\"Open In Colab\"/></a>"
      ]
    },
    {
      "cell_type": "code",
      "execution_count": 1,
      "metadata": {
        "id": "m1En3Ur599pL"
      },
      "outputs": [],
      "source": [
        "import pandas as pd\n",
        "import numpy as np"
      ]
    },
    {
      "cell_type": "code",
      "source": [
        "import tensorflow as tf\n",
        "from tensorflow.keras import applications\n",
        "from tensorflow.keras.preprocessing.image import ImageDataGenerator\n",
        "from tensorflow.keras.models import Model \n",
        "from tensorflow.keras.layers import Dense, Input, Dropout, Flatten"
      ],
      "metadata": {
        "id": "xbAyB_Np-MDG"
      },
      "execution_count": 2,
      "outputs": []
    },
    {
      "cell_type": "code",
      "source": [
        "# Set up the device for GPU usage\n",
        "device_name = tf.test.gpu_device_name()\n",
        "if device_name != '/device:GPU:0':\n",
        "  raise SystemError('GPU device not found')\n",
        "print('Found GPU at: {}'.format(device_name))"
      ],
      "metadata": {
        "colab": {
          "base_uri": "https://localhost:8080/"
        },
        "id": "iNfTi74bdWdI",
        "outputId": "7b236a26-3ae7-4826-ac03-8b8b42389734"
      },
      "execution_count": 3,
      "outputs": [
        {
          "output_type": "stream",
          "name": "stdout",
          "text": [
            "Found GPU at: /device:GPU:0\n"
          ]
        }
      ]
    },
    {
      "cell_type": "code",
      "source": [
        "# connect to google drive for files\n",
        "from google.colab import drive\n",
        "drive.mount('/content/drive')"
      ],
      "metadata": {
        "colab": {
          "base_uri": "https://localhost:8080/"
        },
        "id": "Wu7Zb5lE-MRq",
        "outputId": "bdd41408-12b6-4ef1-8ed2-1362e9838144"
      },
      "execution_count": 4,
      "outputs": [
        {
          "output_type": "stream",
          "name": "stdout",
          "text": [
            "Drive already mounted at /content/drive; to attempt to forcibly remount, call drive.mount(\"/content/drive\", force_remount=True).\n"
          ]
        }
      ]
    },
    {
      "cell_type": "markdown",
      "source": [
        "# Data Pre-processing"
      ],
      "metadata": {
        "id": "71i5-crpi2ct"
      }
    },
    {
      "cell_type": "code",
      "source": [
        "# unzip image file\n",
        "!unzip /content/drive/MyDrive/memes_image.zip"
      ],
      "metadata": {
        "id": "Xp4rSb0P-MbO"
      },
      "execution_count": 5,
      "outputs": []
    },
    {
      "cell_type": "code",
      "source": [
        "memesDF = pd.read_csv('/content/drive/MyDrive/top5_memes_tidy.tsv', sep='\\t')"
      ],
      "metadata": {
        "id": "b7ahkth_-Mjj"
      },
      "execution_count": 6,
      "outputs": []
    },
    {
      "cell_type": "code",
      "source": [
        "memesDF = memesDF.iloc[:, 2:9]"
      ],
      "metadata": {
        "id": "kA0oxOku-MpV"
      },
      "execution_count": 7,
      "outputs": []
    },
    {
      "cell_type": "code",
      "source": [
        "memesDF['AltText'] = memesDF['AltText'].astype(pd.StringDtype())\n",
        "memesDF['MemeLabel'] = memesDF['MemeLabel'].astype(pd.StringDtype())\n",
        "memesDF['CaptionText'] = memesDF['CaptionText'].astype(pd.StringDtype())\n",
        "memesDF['HashId'] = memesDF['HashId'].astype(pd.StringDtype())\n",
        "memesDF['ImageURL'] = memesDF['ImageURL'].astype(pd.StringDtype())\n",
        "memesDF['ImagePath'] = memesDF['ImagePath'].astype(pd.StringDtype())\n",
        "memesDF['Image'] = memesDF['Image'].astype(pd.StringDtype())"
      ],
      "metadata": {
        "id": "oyKqH4Kn-Muu"
      },
      "execution_count": 8,
      "outputs": []
    },
    {
      "cell_type": "code",
      "source": [
        "# Only get two label for Binary Classification\n",
        "meme2cDF = memesDF[(memesDF['MemeLabel'] == \"Scared Cat\") | (memesDF['MemeLabel'] == \"Who Killed Hannibal\")]"
      ],
      "metadata": {
        "id": "MEi0H4ch-M5X"
      },
      "execution_count": 9,
      "outputs": []
    },
    {
      "cell_type": "code",
      "source": [
        "meme2cDF.head(3)"
      ],
      "metadata": {
        "colab": {
          "base_uri": "https://localhost:8080/",
          "height": 326
        },
        "id": "CQoxoFb0-M-Z",
        "outputId": "cfc30f3d-001f-401a-bf98-75934402deff"
      },
      "execution_count": 10,
      "outputs": [
        {
          "output_type": "execute_result",
          "data": {
            "text/plain": [
              "                                             AltText  \\\n",
              "0  Coke in Regal Cinemas > Pepsi in Regal Cinemas...   \n",
              "1  Who Killed Hannibal | NORTH KOREA PEOPLE WITH ...   \n",
              "2  Who Killed Hannibal | MINECRAFT CAVE UPDATE MI...   \n",
              "\n",
              "                                         CaptionText  \\\n",
              "0                                WHO WANTS A PEPSI?    \n",
              "1   NORTH KOREA PEOPLE WITH CORONAVIRUS WE HAVE 0...   \n",
              "2                   MINECRAFT CAVE UPDATE MINECRAFT    \n",
              "\n",
              "                          ImageURL  \\\n",
              "0  http://i.imgflip.com/3xa87f.jpg   \n",
              "1  http://i.imgflip.com/3v9nm3.jpg   \n",
              "2  http://i.imgflip.com/3xjml3.jpg   \n",
              "\n",
              "                                              HashId            MemeLabel  \\\n",
              "0  b54073fe552aa582c57a1a39e9db3f550067775516b844...  Who Killed Hannibal   \n",
              "1  55a37d7aac7c769f4d517ea20b50c8ffa8e545491e45c1...  Who Killed Hannibal   \n",
              "2  ba01cf5a250ad0d9dc2901c5250ddf0e49abc8fb8e0a80...  Who Killed Hannibal   \n",
              "\n",
              "                         ImagePath       Image  \n",
              "0  /content/memes_image/3xa87f.jpg  3xa87f.jpg  \n",
              "1  /content/memes_image/3v9nm3.jpg  3v9nm3.jpg  \n",
              "2  /content/memes_image/3xjml3.jpg  3xjml3.jpg  "
            ],
            "text/html": [
              "\n",
              "  <div id=\"df-e30e0fec-1560-4784-aad0-fc08753cb10f\">\n",
              "    <div class=\"colab-df-container\">\n",
              "      <div>\n",
              "<style scoped>\n",
              "    .dataframe tbody tr th:only-of-type {\n",
              "        vertical-align: middle;\n",
              "    }\n",
              "\n",
              "    .dataframe tbody tr th {\n",
              "        vertical-align: top;\n",
              "    }\n",
              "\n",
              "    .dataframe thead th {\n",
              "        text-align: right;\n",
              "    }\n",
              "</style>\n",
              "<table border=\"1\" class=\"dataframe\">\n",
              "  <thead>\n",
              "    <tr style=\"text-align: right;\">\n",
              "      <th></th>\n",
              "      <th>AltText</th>\n",
              "      <th>CaptionText</th>\n",
              "      <th>ImageURL</th>\n",
              "      <th>HashId</th>\n",
              "      <th>MemeLabel</th>\n",
              "      <th>ImagePath</th>\n",
              "      <th>Image</th>\n",
              "    </tr>\n",
              "  </thead>\n",
              "  <tbody>\n",
              "    <tr>\n",
              "      <th>0</th>\n",
              "      <td>Coke in Regal Cinemas &gt; Pepsi in Regal Cinemas...</td>\n",
              "      <td>WHO WANTS A PEPSI?</td>\n",
              "      <td>http://i.imgflip.com/3xa87f.jpg</td>\n",
              "      <td>b54073fe552aa582c57a1a39e9db3f550067775516b844...</td>\n",
              "      <td>Who Killed Hannibal</td>\n",
              "      <td>/content/memes_image/3xa87f.jpg</td>\n",
              "      <td>3xa87f.jpg</td>\n",
              "    </tr>\n",
              "    <tr>\n",
              "      <th>1</th>\n",
              "      <td>Who Killed Hannibal | NORTH KOREA PEOPLE WITH ...</td>\n",
              "      <td>NORTH KOREA PEOPLE WITH CORONAVIRUS WE HAVE 0...</td>\n",
              "      <td>http://i.imgflip.com/3v9nm3.jpg</td>\n",
              "      <td>55a37d7aac7c769f4d517ea20b50c8ffa8e545491e45c1...</td>\n",
              "      <td>Who Killed Hannibal</td>\n",
              "      <td>/content/memes_image/3v9nm3.jpg</td>\n",
              "      <td>3v9nm3.jpg</td>\n",
              "    </tr>\n",
              "    <tr>\n",
              "      <th>2</th>\n",
              "      <td>Who Killed Hannibal | MINECRAFT CAVE UPDATE MI...</td>\n",
              "      <td>MINECRAFT CAVE UPDATE MINECRAFT</td>\n",
              "      <td>http://i.imgflip.com/3xjml3.jpg</td>\n",
              "      <td>ba01cf5a250ad0d9dc2901c5250ddf0e49abc8fb8e0a80...</td>\n",
              "      <td>Who Killed Hannibal</td>\n",
              "      <td>/content/memes_image/3xjml3.jpg</td>\n",
              "      <td>3xjml3.jpg</td>\n",
              "    </tr>\n",
              "  </tbody>\n",
              "</table>\n",
              "</div>\n",
              "      <button class=\"colab-df-convert\" onclick=\"convertToInteractive('df-e30e0fec-1560-4784-aad0-fc08753cb10f')\"\n",
              "              title=\"Convert this dataframe to an interactive table.\"\n",
              "              style=\"display:none;\">\n",
              "        \n",
              "  <svg xmlns=\"http://www.w3.org/2000/svg\" height=\"24px\"viewBox=\"0 0 24 24\"\n",
              "       width=\"24px\">\n",
              "    <path d=\"M0 0h24v24H0V0z\" fill=\"none\"/>\n",
              "    <path d=\"M18.56 5.44l.94 2.06.94-2.06 2.06-.94-2.06-.94-.94-2.06-.94 2.06-2.06.94zm-11 1L8.5 8.5l.94-2.06 2.06-.94-2.06-.94L8.5 2.5l-.94 2.06-2.06.94zm10 10l.94 2.06.94-2.06 2.06-.94-2.06-.94-.94-2.06-.94 2.06-2.06.94z\"/><path d=\"M17.41 7.96l-1.37-1.37c-.4-.4-.92-.59-1.43-.59-.52 0-1.04.2-1.43.59L10.3 9.45l-7.72 7.72c-.78.78-.78 2.05 0 2.83L4 21.41c.39.39.9.59 1.41.59.51 0 1.02-.2 1.41-.59l7.78-7.78 2.81-2.81c.8-.78.8-2.07 0-2.86zM5.41 20L4 18.59l7.72-7.72 1.47 1.35L5.41 20z\"/>\n",
              "  </svg>\n",
              "      </button>\n",
              "      \n",
              "  <style>\n",
              "    .colab-df-container {\n",
              "      display:flex;\n",
              "      flex-wrap:wrap;\n",
              "      gap: 12px;\n",
              "    }\n",
              "\n",
              "    .colab-df-convert {\n",
              "      background-color: #E8F0FE;\n",
              "      border: none;\n",
              "      border-radius: 50%;\n",
              "      cursor: pointer;\n",
              "      display: none;\n",
              "      fill: #1967D2;\n",
              "      height: 32px;\n",
              "      padding: 0 0 0 0;\n",
              "      width: 32px;\n",
              "    }\n",
              "\n",
              "    .colab-df-convert:hover {\n",
              "      background-color: #E2EBFA;\n",
              "      box-shadow: 0px 1px 2px rgba(60, 64, 67, 0.3), 0px 1px 3px 1px rgba(60, 64, 67, 0.15);\n",
              "      fill: #174EA6;\n",
              "    }\n",
              "\n",
              "    [theme=dark] .colab-df-convert {\n",
              "      background-color: #3B4455;\n",
              "      fill: #D2E3FC;\n",
              "    }\n",
              "\n",
              "    [theme=dark] .colab-df-convert:hover {\n",
              "      background-color: #434B5C;\n",
              "      box-shadow: 0px 1px 3px 1px rgba(0, 0, 0, 0.15);\n",
              "      filter: drop-shadow(0px 1px 2px rgba(0, 0, 0, 0.3));\n",
              "      fill: #FFFFFF;\n",
              "    }\n",
              "  </style>\n",
              "\n",
              "      <script>\n",
              "        const buttonEl =\n",
              "          document.querySelector('#df-e30e0fec-1560-4784-aad0-fc08753cb10f button.colab-df-convert');\n",
              "        buttonEl.style.display =\n",
              "          google.colab.kernel.accessAllowed ? 'block' : 'none';\n",
              "\n",
              "        async function convertToInteractive(key) {\n",
              "          const element = document.querySelector('#df-e30e0fec-1560-4784-aad0-fc08753cb10f');\n",
              "          const dataTable =\n",
              "            await google.colab.kernel.invokeFunction('convertToInteractive',\n",
              "                                                     [key], {});\n",
              "          if (!dataTable) return;\n",
              "\n",
              "          const docLinkHtml = 'Like what you see? Visit the ' +\n",
              "            '<a target=\"_blank\" href=https://colab.research.google.com/notebooks/data_table.ipynb>data table notebook</a>'\n",
              "            + ' to learn more about interactive tables.';\n",
              "          element.innerHTML = '';\n",
              "          dataTable['output_type'] = 'display_data';\n",
              "          await google.colab.output.renderOutput(dataTable, element);\n",
              "          const docLink = document.createElement('div');\n",
              "          docLink.innerHTML = docLinkHtml;\n",
              "          element.appendChild(docLink);\n",
              "        }\n",
              "      </script>\n",
              "    </div>\n",
              "  </div>\n",
              "  "
            ]
          },
          "metadata": {},
          "execution_count": 10
        }
      ]
    },
    {
      "cell_type": "code",
      "source": [
        "# train test split\n",
        "from sklearn.model_selection import train_test_split\n",
        "\n",
        "me_trainDF, me_testDF = train_test_split(meme2cDF, test_size=0.2, random_state=15)\n",
        "me_trainDF.index"
      ],
      "metadata": {
        "colab": {
          "base_uri": "https://localhost:8080/"
        },
        "id": "Xx-me6waCM6H",
        "outputId": "cb4c458b-8970-4b97-9fa7-9df850fc42a0"
      },
      "execution_count": 11,
      "outputs": [
        {
          "output_type": "execute_result",
          "data": {
            "text/plain": [
              "Int64Index([3025,  363,  222, 3160,  100,   51, 2855, 2651,  135, 2370,\n",
              "            ...\n",
              "            1047,  927,  749, 3115,  221,  943,  630, 3183, 2789, 3254],\n",
              "           dtype='int64', length=1861)"
            ]
          },
          "metadata": {},
          "execution_count": 11
        }
      ]
    },
    {
      "cell_type": "markdown",
      "source": [
        "# Load Pre-trained Model"
      ],
      "metadata": {
        "id": "puie_NYrCjyI"
      }
    },
    {
      "cell_type": "code",
      "source": [
        "tf.random.set_seed(45)\n",
        "\n",
        "# Load original model with pretrained weights from imagenet\n",
        "base_model = applications.VGG16(weights=\"imagenet\")\n",
        "\n",
        "# Freeze base model\n",
        "base_model.trainable = False\n",
        "\n",
        "# Create new model on top\n",
        "img_height = 224\n",
        "img_width = 224\n",
        "inputs = Input(shape=(img_height, img_width, 3))\n",
        "x = base_model(inputs, training=False)\n",
        "outputs = Dense(1, activation=\"sigmoid\")(x) # output probabilities for both classes\n",
        "model = Model(inputs, outputs)\n",
        "model.summary()"
      ],
      "metadata": {
        "colab": {
          "base_uri": "https://localhost:8080/"
        },
        "id": "uVp3R5UeCpFA",
        "outputId": "68c9bac1-8cfa-4796-a692-fca3a6e0c0b3"
      },
      "execution_count": 12,
      "outputs": [
        {
          "output_type": "stream",
          "name": "stdout",
          "text": [
            "Model: \"model\"\n",
            "_________________________________________________________________\n",
            " Layer (type)                Output Shape              Param #   \n",
            "=================================================================\n",
            " input_2 (InputLayer)        [(None, 224, 224, 3)]     0         \n",
            "                                                                 \n",
            " vgg16 (Functional)          (None, 1000)              138357544 \n",
            "                                                                 \n",
            " dense (Dense)               (None, 1)                 1001      \n",
            "                                                                 \n",
            "=================================================================\n",
            "Total params: 138,358,545\n",
            "Trainable params: 1,001\n",
            "Non-trainable params: 138,357,544\n",
            "_________________________________________________________________\n"
          ]
        }
      ]
    },
    {
      "cell_type": "code",
      "source": [
        "# Try deeper model on top\n",
        "img_height = 224\n",
        "img_width = 224\n",
        "inputs = Input(shape=(img_height, img_width, 3))\n",
        "x = base_model(inputs, training=False)\n",
        "\n",
        "hidden1 = Flatten(name=\"flatten\")(x)\n",
        "hidden2 = Dense(512, activation=\"relu\")(hidden1)\n",
        "hidden3 = Dropout(0.5)(hidden2)\n",
        "\n",
        "outputs = Dense(1, activation=\"sigmoid\")(hidden3) # we want to output probabilities for both classes\n",
        "model = Model(inputs, outputs)\n",
        "model.summary()"
      ],
      "metadata": {
        "id": "3-H3TV6D3KMv"
      },
      "execution_count": null,
      "outputs": []
    },
    {
      "cell_type": "code",
      "source": [
        "#!pip install mlflow"
      ],
      "metadata": {
        "id": "MJLm9OCfERHm"
      },
      "execution_count": null,
      "outputs": []
    },
    {
      "cell_type": "code",
      "source": [
        "#import mlflow.tensorflow\n",
        "from tensorflow.keras.optimizers import Adam"
      ],
      "metadata": {
        "id": "py2vFZ5GDF5h"
      },
      "execution_count": 14,
      "outputs": []
    },
    {
      "cell_type": "code",
      "source": [
        "# Check out the MLflow UI as this runs\n",
        "#mlflow.tensorflow.autolog(every_n_iter=2)"
      ],
      "metadata": {
        "id": "hwvRjWBHEFH1"
      },
      "execution_count": 16,
      "outputs": []
    },
    {
      "cell_type": "code",
      "source": [
        "# optimizer and metric\n",
        "model.compile(loss=\"binary_crossentropy\", optimizer=Adam(lr=0.005), metrics=[\"accuracy\"]) "
      ],
      "metadata": {
        "colab": {
          "base_uri": "https://localhost:8080/"
        },
        "id": "NSmrtycAFEOX",
        "outputId": "19d51c75-961c-417b-9619-4a60ccab7879"
      },
      "execution_count": 15,
      "outputs": [
        {
          "output_type": "stream",
          "name": "stderr",
          "text": [
            "/usr/local/lib/python3.7/dist-packages/keras/optimizer_v2/adam.py:105: UserWarning: The `lr` argument is deprecated, use `learning_rate` instead.\n",
            "  super(Adam, self).__init__(name, **kwargs)\n"
          ]
        }
      ]
    },
    {
      "cell_type": "code",
      "source": [
        " # Loading training data\n",
        "batch_size = 32\n",
        "train_datagen = ImageDataGenerator(preprocessing_function=applications.vgg16.preprocess_input, rescale=1./255.,validation_split=0.25)\n",
        "train_generator = train_datagen.flow_from_dataframe(dataframe=me_trainDF, \n",
        "                                                    directory=None, \n",
        "                                                    x_col=\"ImagePath\", \n",
        "                                                    y_col=\"MemeLabel\", \n",
        "                                                    subset=\"training\", \n",
        "                                                    seed = 55, \n",
        "                                                    class_mode=\"binary\", \n",
        "                                                    target_size=(img_height, img_width), \n",
        "                                                    batch_size=batch_size)\n",
        "\n",
        "valid_generator = train_datagen.flow_from_dataframe(dataframe=me_trainDF, \n",
        "                                                    directory=None, \n",
        "                                                    x_col=\"ImagePath\", \n",
        "                                                    y_col=\"MemeLabel\", \n",
        "                                                    subset=\"validation\", \n",
        "                                                    seed = 55, \n",
        "                                                    class_mode=\"binary\", \n",
        "                                                    target_size=(img_height, img_width), \n",
        "                                                    batch_size=batch_size)\n",
        "\n",
        "print(f\"Class labels: {train_generator.class_indices}\")\n",
        "\n",
        "#step_size = train_generator.n//train_generator.batch_size"
      ],
      "metadata": {
        "colab": {
          "base_uri": "https://localhost:8080/"
        },
        "id": "dlac7wSGDILR",
        "outputId": "f93751e4-39bb-403b-dca4-5dcc976fd925"
      },
      "execution_count": 16,
      "outputs": [
        {
          "output_type": "stream",
          "name": "stdout",
          "text": [
            "Found 1396 validated image filenames belonging to 2 classes.\n",
            "Found 465 validated image filenames belonging to 2 classes.\n",
            "Class labels: {'Scared Cat': 0, 'Who Killed Hannibal': 1}\n"
          ]
        }
      ]
    },
    {
      "cell_type": "code",
      "source": [
        "# Train the model \n",
        "step_size_train=train_generator.n//train_generator.batch_size\n",
        "step_size_valid=valid_generator.n//valid_generator.batch_size\n",
        "\n",
        "model.fit(train_generator,\n",
        "          steps_per_epoch=step_size_train,\n",
        "          validation_data=valid_generator,\n",
        "          validation_steps=step_size_valid,\n",
        "          epochs=10,\n",
        "          verbose=2 # show: epoch 1/10\n",
        ")"
      ],
      "metadata": {
        "colab": {
          "base_uri": "https://localhost:8080/"
        },
        "id": "-sjgGf-BFHrv",
        "outputId": "0b45cddc-93b3-44d0-8492-ada6a4e3e52b"
      },
      "execution_count": 17,
      "outputs": [
        {
          "output_type": "stream",
          "name": "stdout",
          "text": [
            "Epoch 1/10\n",
            "43/43 - 30s - loss: 0.6807 - accuracy: 0.9348 - val_loss: 0.6695 - val_accuracy: 0.9330 - 30s/epoch - 702ms/step\n",
            "Epoch 2/10\n",
            "43/43 - 17s - loss: 0.6588 - accuracy: 0.8424 - val_loss: 0.6485 - val_accuracy: 0.9911 - 17s/epoch - 391ms/step\n",
            "Epoch 3/10\n",
            "43/43 - 17s - loss: 0.6378 - accuracy: 0.9853 - val_loss: 0.6280 - val_accuracy: 0.9911 - 17s/epoch - 391ms/step\n",
            "Epoch 4/10\n",
            "43/43 - 17s - loss: 0.6184 - accuracy: 0.9875 - val_loss: 0.6083 - val_accuracy: 0.9955 - 17s/epoch - 388ms/step\n",
            "Epoch 5/10\n",
            "43/43 - 17s - loss: 0.5993 - accuracy: 0.9934 - val_loss: 0.5901 - val_accuracy: 1.0000 - 17s/epoch - 405ms/step\n",
            "Epoch 6/10\n",
            "43/43 - 17s - loss: 0.5805 - accuracy: 0.9971 - val_loss: 0.5717 - val_accuracy: 0.9978 - 17s/epoch - 399ms/step\n",
            "Epoch 7/10\n",
            "43/43 - 17s - loss: 0.5629 - accuracy: 0.9971 - val_loss: 0.5537 - val_accuracy: 0.9978 - 17s/epoch - 393ms/step\n",
            "Epoch 8/10\n",
            "43/43 - 17s - loss: 0.5453 - accuracy: 0.9963 - val_loss: 0.5366 - val_accuracy: 1.0000 - 17s/epoch - 393ms/step\n",
            "Epoch 9/10\n",
            "43/43 - 17s - loss: 0.5284 - accuracy: 0.9978 - val_loss: 0.5203 - val_accuracy: 0.9978 - 17s/epoch - 392ms/step\n",
            "Epoch 10/10\n",
            "43/43 - 17s - loss: 0.5122 - accuracy: 0.9978 - val_loss: 0.5046 - val_accuracy: 0.9978 - 17s/epoch - 393ms/step\n"
          ]
        },
        {
          "output_type": "execute_result",
          "data": {
            "text/plain": [
              "<keras.callbacks.History at 0x7fa63a223910>"
            ]
          },
          "metadata": {},
          "execution_count": 17
        }
      ]
    },
    {
      "cell_type": "code",
      "source": [
        "# Evaluate model on test set\n",
        "test_datagen = ImageDataGenerator(preprocessing_function=applications.vgg16.preprocess_input, rescale=1./255.)"
      ],
      "metadata": {
        "id": "HURE_sAxFIaK"
      },
      "execution_count": 18,
      "outputs": []
    },
    {
      "cell_type": "code",
      "source": [
        "# Evaluate\n",
        "batch_size = 32\n",
        "\n",
        "test_generator = test_datagen.flow_from_dataframe(\n",
        "  dataframe=me_testDF, \n",
        "  directory=None, \n",
        "  x_col=\"ImagePath\", \n",
        "  y_col=\"MemeLabel\", \n",
        "  class_mode=\"binary\", \n",
        "  target_size=(img_height, img_width),\n",
        "  shuffle=False,\n",
        "  batch_size=batch_size\n",
        ")\n",
        "\n",
        "step_size_test = test_generator.n//test_generator.batch_size\n",
        "\n",
        "eval_results = model.evaluate(test_generator, steps=step_size_test)\n",
        "print(f\"Loss: {eval_results[0]}. Accuracy: {eval_results[1]}\")"
      ],
      "metadata": {
        "colab": {
          "base_uri": "https://localhost:8080/"
        },
        "id": "L2tblZ9-FIXf",
        "outputId": "ee26f755-070b-433f-817c-bc2dc3ee1e8e"
      },
      "execution_count": 19,
      "outputs": [
        {
          "output_type": "stream",
          "name": "stdout",
          "text": [
            "Found 466 validated image filenames belonging to 2 classes.\n",
            "14/14 [==============================] - 4s 291ms/step - loss: 0.5032 - accuracy: 1.0000\n",
            "Loss: 0.5031718611717224. Accuracy: 1.0\n"
          ]
        }
      ]
    }
  ]
}